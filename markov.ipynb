{
 "cells": [
  {
   "cell_type": "code",
   "execution_count": 1,
   "metadata": {},
   "outputs": [],
   "source": [
    "%load_ext autoreload\n",
    "%autoreload 2"
   ]
  },
  {
   "cell_type": "code",
   "execution_count": 2,
   "metadata": {},
   "outputs": [],
   "source": [
    "import matplotlib.pyplot as plt\n",
    "import pandas as pd\n",
    "import seaborn as sns\n",
    "import itertools\n",
    "import random\n",
    "import helpers \n",
    "from markov import MarkovModel\n",
    "\n",
    "pd.set_option(\"display.max_columns\", None)"
   ]
  },
  {
   "cell_type": "code",
   "execution_count": 3,
   "metadata": {},
   "outputs": [],
   "source": [
    "all_painted = pd.read_csv(\"all_painted.csv\").drop(\"Unnamed: 0\", axis=1)"
   ]
  },
  {
   "cell_type": "code",
   "execution_count": 4,
   "metadata": {},
   "outputs": [],
   "source": [
    "# 4 corners X 4 corner locations x 9 drip locations = 144 unique drips x 17 second options = 2448 drip + time options\n",
    "# Lots of options\n",
    "# Too many options\n",
    "# Break into parts\n",
    "\n",
    "# Pick a corner. Itterate through them all?\n",
    "# Given a corner + corner location where should the drip be? Markov?\n",
    "# Given a drip how long should it drip for? Select from distribution of best paintings. \n",
    "# Given a drip location (maybe current corner?) where should the next corner location be?\n",
    "\n"
   ]
  },
  {
   "cell_type": "code",
   "execution_count": 5,
   "metadata": {},
   "outputs": [],
   "source": [
    "corner_drip_scored_dict = helpers.create_corner_drip_scored_dict(all_painted)\n",
    "\n",
    "drip_corner_scored_dict = helpers.create_drip_corner_scored_dict(all_painted)\n",
    "\n",
    "drips_with_scores = pd.concat([ helpers.select_one_corner(i, all_painted) for i in range(5)])\n",
    "drips_with_scores = drips_with_scores[drips_with_scores['drip_x'] != 0].reset_index()\n",
    "\n",
    "top_score_times = drips_with_scores[drips_with_scores['hanna_second_score'] == 2]['time'].tolist()\n",
    "top_score_number_drips = all_painted[all_painted['hanna_second_score'] == 2]['number_drips'].tolist()"
   ]
  },
  {
   "cell_type": "code",
   "execution_count": 6,
   "metadata": {},
   "outputs": [],
   "source": [
    "papers = [\n",
    "    {\"number_drips\": top_score_number_drips[random.randint(0, 26)], \"corner_1\": corner}\n",
    "    for corner in corner_drip_scored_dict.keys()\n",
    "]\n",
    "\n",
    "for paper in papers:\n",
    "    corner = paper['corner_1']\n",
    "    number_drips = paper['number_drips']\n",
    "    paper['drip_1'] = max(corner_drip_scored_dict[corner], key=corner_drip_scored_dict[corner].get)\n",
    "    paper['time_1'] = top_score_times[random.randint(0, 110)]\n",
    "    for drip_number in range(1, number_drips+1):\n",
    "        paper[f'corner_{drip_number + 1}'] = max(drip_corner_scored_dict[paper[f'drip_{drip_number}']], key=drip_corner_scored_dict[paper[f'drip_{drip_number}']].get) \n",
    "        paper[f'drip_{drip_number + 1}'] = max(corner_drip_scored_dict[paper[f'corner_{drip_number + 1}']], key=corner_drip_scored_dict[paper[f'corner_{drip_number + 1}']].get)\n",
    "        paper[f'time_{drip_number + 1}'] = top_score_times[random.randint(0, 110)]"
   ]
  },
  {
   "cell_type": "code",
   "execution_count": 8,
   "metadata": {},
   "outputs": [],
   "source": [
    "generate_papers = pd.DataFrame(papers)"
   ]
  },
  {
   "cell_type": "code",
   "execution_count": null,
   "metadata": {},
   "outputs": [],
   "source": [
    "generate_papers.to_csv(\"run_6.csv\")"
   ]
  },
  {
   "cell_type": "code",
   "execution_count": null,
   "metadata": {},
   "outputs": [],
   "source": [
    "# This was too deterministic and lead to a lot of loops\n",
    "# Going to add a little more random chance in theres"
   ]
  },
  {
   "cell_type": "code",
   "execution_count": 80,
   "metadata": {},
   "outputs": [
    {
     "name": "stderr",
     "output_type": "stream",
     "text": [
      "/Users/hanna/.pyenv/versions/anaconda3-2018.12/lib/python3.7/site-packages/pandas/core/indexing.py:844: SettingWithCopyWarning: \n",
      "A value is trying to be set on a copy of a slice from a DataFrame.\n",
      "Try using .loc[row_indexer,col_indexer] = value instead\n",
      "\n",
      "See the caveats in the documentation: https://pandas.pydata.org/pandas-docs/stable/user_guide/indexing.html#returning-a-view-versus-a-copy\n",
      "  self.obj[key] = _infer_fill_value(value)\n",
      "/Users/hanna/.pyenv/versions/anaconda3-2018.12/lib/python3.7/site-packages/pandas/core/indexing.py:965: SettingWithCopyWarning: \n",
      "A value is trying to be set on a copy of a slice from a DataFrame.\n",
      "Try using .loc[row_indexer,col_indexer] = value instead\n",
      "\n",
      "See the caveats in the documentation: https://pandas.pydata.org/pandas-docs/stable/user_guide/indexing.html#returning-a-view-versus-a-copy\n",
      "  self.obj[item] = s\n"
     ]
    }
   ],
   "source": [
    "mm = MarkovModel(all_painted)"
   ]
  },
  {
   "cell_type": "code",
   "execution_count": 82,
   "metadata": {},
   "outputs": [],
   "source": [
    "papers_2 = [\n",
    "    {\"number_drips\": mm.get_number_drips()}\n",
    "    for i in range(16)\n",
    "]\n",
    "\n",
    "for paper in papers_2:\n",
    "    number_drips = paper['number_drips']\n",
    "\n",
    "    for drip_number in range(1, number_drips+1):\n",
    "        if drip_number == 1:\n",
    "            paper[f'corner_{drip_number}'] = mm.get_corner()\n",
    "        else:\n",
    "            paper[f'corner_{drip_number}'] = mm.get_corner_given_drip(paper[f'drip_{drip_number - 1}'] )\n",
    "        paper[f'drip_{drip_number}'] = mm.get_drip_given_corner(paper[f'corner_{drip_number}'])\n",
    "        paper[f'time_{drip_number}'] = mm.get_time()\n",
    "\n"
   ]
  },
  {
   "cell_type": "code",
   "execution_count": 85,
   "metadata": {},
   "outputs": [],
   "source": [
    "generate_papers_2 = pd.DataFrame(papers_2) \n",
    "generate_papers_2.to_csv(\"run_7.csv\")"
   ]
  },
  {
   "cell_type": "code",
   "execution_count": null,
   "metadata": {},
   "outputs": [],
   "source": []
  }
 ],
 "metadata": {
  "kernelspec": {
   "display_name": "base",
   "language": "python",
   "name": "python3"
  },
  "language_info": {
   "codemirror_mode": {
    "name": "ipython",
    "version": 3
   },
   "file_extension": ".py",
   "mimetype": "text/x-python",
   "name": "python",
   "nbconvert_exporter": "python",
   "pygments_lexer": "ipython3",
   "version": "3.7.1"
  },
  "orig_nbformat": 4,
  "vscode": {
   "interpreter": {
    "hash": "28b914d78369aec67b1d88b4da0e08a31d34e427715725f0b4c356ced51bd84f"
   }
  }
 },
 "nbformat": 4,
 "nbformat_minor": 2
}
